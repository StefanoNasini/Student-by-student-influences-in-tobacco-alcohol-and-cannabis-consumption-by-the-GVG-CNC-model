{
 "cells": [
  {
   "cell_type": "code",
   "execution_count": 3,
   "id": "4b20e91d",
   "metadata": {},
   "outputs": [],
   "source": [
    "n_individuals = 129\n",
    "n_items = 27\n",
    "\n",
    "confs = [f\"conf{i}\" for i in range(1, 8)]\n",
    "def floatize(l):\n",
    "    return [float(i) for i in l]\n",
    "for conf in confs:\n",
    "    with open(f\"{conf}.txt\") as f:\n",
    "        exec(f\"{conf} = f.read()\")\n",
    "    exec(f\"{conf} = {conf}.split('\\t')\")\n",
    "    exec(f\"{conf}.pop()\")\n",
    "    exec(f\"{conf} = floatize({conf})\")"
   ]
  },
  {
   "cell_type": "code",
   "execution_count": 4,
   "id": "36ba0a1d",
   "metadata": {},
   "outputs": [],
   "source": [
    "def up(i, j):\n",
    "    return n_individuals + n_individuals * n_items + n_individuals * i + j\n",
    "\n",
    "\n",
    "def down( i, j):\n",
    "    return n_individuals +n_individuals * n_items +n_individuals* n_individuals +n_individuals * i + j"
   ]
  },
  {
   "cell_type": "code",
   "execution_count": 5,
   "id": "e377acee",
   "metadata": {},
   "outputs": [],
   "source": [
    "def cal_diff(conf1, conf2):\n",
    "    sum = 0\n",
    "    sum1 = 0\n",
    "    sum2 = 0\n",
    "    for i in range(n_individuals):\n",
    "        for j in range(n_individuals):\n",
    "#             print(i, j)\n",
    "            if conf1[up(i, j)] == conf2[up(i, j)]:\n",
    "                diff = 0\n",
    "            else:\n",
    "                diff = 1\n",
    "            sum+= diff\n",
    "            sum1+= conf1[up(i, j)]\n",
    "            sum2+= conf2[up(i, j)]\n",
    "    return sum / (sum1+sum2)\n",
    "\n",
    "\n",
    "def cal_diff_down(conf1, conf2):\n",
    "    sum = 0\n",
    "    sum1 = 0\n",
    "    sum2 = 0\n",
    "    for i in range(n_individuals):\n",
    "        for j in range(n_individuals):\n",
    "#             print(i, j)\n",
    "            if conf1[down(i, j)] == conf2[down(i, j)]:\n",
    "                diff = 0\n",
    "            else:\n",
    "                diff = 1\n",
    "            sum+= diff\n",
    "            sum1+= conf1[down(i, j)]\n",
    "            sum2+= conf2[down(i, j)]\n",
    "    return sum / (sum1+sum2)"
   ]
  },
  {
   "cell_type": "code",
   "execution_count": null,
   "id": "b88cbfee",
   "metadata": {},
   "outputs": [],
   "source": []
  },
  {
   "cell_type": "code",
   "execution_count": null,
   "id": "b6d3fc1c",
   "metadata": {},
   "outputs": [],
   "source": []
  },
  {
   "cell_type": "code",
   "execution_count": null,
   "id": "af64994f",
   "metadata": {},
   "outputs": [],
   "source": []
  },
  {
   "cell_type": "code",
   "execution_count": 6,
   "id": "d435b3a2",
   "metadata": {},
   "outputs": [],
   "source": [
    "confsdf = [eval(conf) for conf in confs]"
   ]
  },
  {
   "cell_type": "code",
   "execution_count": 7,
   "id": "be6e7683",
   "metadata": {},
   "outputs": [],
   "source": [
    "import numpy as np\n",
    "conf5array = np.array([[int(conf5[up(i, j)]) for j in range(n_individuals)] for i in range(n_individuals)])\n",
    "conf5enemyarray = []\n",
    "for i in range(n_individuals):\n",
    "    for j in range(n_individuals):\n",
    "        try:\n",
    "            conf5enemyarray.append(int(conf5[down(i, j)]))\n",
    "        except IndexError:\n",
    "            conf5enemyarray.append(0)\n",
    "conf5enemyarray = np.array(conf5enemyarray).reshape((129, 129))"
   ]
  },
  {
   "cell_type": "code",
   "execution_count": 8,
   "id": "806aa7f4",
   "metadata": {},
   "outputs": [],
   "source": [
    "np.savetxt(\"conf5_numpy.csv\", conf5array, delimiter=', ')\n",
    "np.savetxt(\"conf5_enemy_numpy.csv\", conf5array, delimiter=', ')\n"
   ]
  },
  {
   "cell_type": "code",
   "execution_count": 9,
   "id": "9d10ba75",
   "metadata": {},
   "outputs": [
    {
     "name": "stdout",
     "output_type": "stream",
     "text": [
      "(conf 1) & 0.00 & 1.00 & 1.00 & 0.98 & 0.82 & 0.98 & 0.95 & \\\\\n",
      "(conf 2) & 1.00 & 0.00 & 1.00 & 1.00 & 1.00 & 1.00 & 1.00 & \\\\\n",
      "(conf 3) & 1.00 & 1.00 & 0.00 & 1.00 & 1.00 & 1.00 & 1.00 & \\\\\n",
      "(conf 4) & 0.98 & 1.00 & 1.00 & 0.00 & 0.94 & 0.61 & 0.92 & \\\\\n",
      "(conf 5) & 0.82 & 1.00 & 1.00 & 0.94 & 0.00 & 0.97 & 0.78 & \\\\\n",
      "(conf 6) & 0.98 & 1.00 & 1.00 & 0.61 & 0.97 & 0.00 & 0.94 & \\\\\n",
      "(conf 7) & 0.95 & 1.00 & 1.00 & 0.92 & 0.78 & 0.94 & 0.00 & \\\\\n"
     ]
    }
   ],
   "source": [
    "for i,confa in enumerate(confs):\n",
    "    print(f\"(conf {i+1})\", end=' & ')\n",
    "    for confb in confs:\n",
    "        print(f\"{cal_diff_down(eval(confa), eval(confb)):.2f}\", end=' & ')\n",
    "    print(\"\\\\\\\\\")"
   ]
  }
 ],
 "metadata": {
  "kernelspec": {
   "display_name": "Python 3 (ipykernel)",
   "language": "python",
   "name": "python3"
  },
  "language_info": {
   "codemirror_mode": {
    "name": "ipython",
    "version": 3
   },
   "file_extension": ".py",
   "mimetype": "text/x-python",
   "name": "python",
   "nbconvert_exporter": "python",
   "pygments_lexer": "ipython3",
   "version": "3.9.12"
  }
 },
 "nbformat": 4,
 "nbformat_minor": 5
}
